{
 "cells": [
  {
   "cell_type": "code",
   "execution_count": 6,
   "id": "ecb31483-c266-4e43-8c70-58cff5cc8803",
   "metadata": {},
   "outputs": [
    {
     "name": "stdout",
     "output_type": "stream",
     "text": [
      "Index List\n",
      "10\n",
      "30\n",
      "50\n",
      "50\n",
      "40\n",
      "10\n",
      "Banyaknya elemen\n",
      "5\n"
     ]
    }
   ],
   "source": [
    "# Dalam Python mirip dengan array поrmal\n",
    "# Dalam List, elemen tidak diindeks berdasarkan kunci (key) tertentu\n",
    "# Indeks bilangan selalu diawali dari nilai nol (0)\n",
    "# Indeks negatif ditentukan dari arah kanan, dan dimulai dari -1\n",
    "# Bentuk umum: nama_List = [nilai, nilai2, nilai3,...]\n",
    "#Contoh:\n",
    "list =[10, 20, 30, 40, 50]\n",
    "# Index elemen di dalam List berdasarkan posisi\n",
    "print('Index List')\n",
    "print(list[0]) #bernilai 10\n",
    "print(list[2]) #bernilai 30\n",
    "print(list[4]) #bernilai 50\n",
    "print(list[-1]) #bernilai 50\n",
    "print(list[-2]) #bernilai 40\n",
    "print(list[-5]) #bernilai 10\n",
    "print('Banyaknya elemen')\n",
    "print(len(list))"
   ]
  },
  {
   "cell_type": "code",
   "execution_count": 8,
   "id": "96b00235-bf1c-4110-bedf-15ec159cb741",
   "metadata": {},
   "outputs": [
    {
     "name": "stdout",
     "output_type": "stream",
     "text": [
      "Sebelum dipotong:\n",
      "[10, 20, 30, 40, 50]\n",
      "Setelah dipotong:\n",
      "[10, 20, 30, 40]\n",
      "[10]\n",
      "[50]\n",
      "[40, 50]\n"
     ]
    }
   ],
   "source": [
    "#Contoh:\n",
    "list =[10, 20, 30, 40, 50]\n",
    "#Slicing (memotong) elemen di dalam List\n",
    "print('Sebelum dipotong:')\n",
    "print(list)\n",
    "print('Setelah dipotong:')\n",
    "print(list[:-1]) #memotong elemen pertama dari kanan\n",
    "print(list[:1]) #memotong elemen\n",
    "print(list[-1:]) # memotong elemen dari kanan kecuali elemen -1\n",
    "print(list[-2:])\n",
    "#tugas berikan penjelasan pada slicing"
   ]
  },
  {
   "cell_type": "code",
   "execution_count": 10,
   "id": "909c2068-ae2e-415e-a0e9-8238369336a6",
   "metadata": {},
   "outputs": [
    {
     "name": "stdout",
     "output_type": "stream",
     "text": [
      "Sebelum digabung:\n",
      "[10, 20, 30, 40, 50]\n",
      "Setelah digabung:\n",
      "[10, 20, 30, 40, 50, 600, 700, 800]\n"
     ]
    }
   ],
   "source": [
    "#Contoh:\n",
    "list =[10, 20, 30, 40, 50]\n",
    "# Penggabungan elemen List dan membuat daftar list baru\n",
    "print('Sebelum digabung:')\n",
    "print(list)\n",
    "print('Setelah digabung:')\n",
    "print(list +[600, 700, 800])"
   ]
  },
  {
   "cell_type": "code",
   "execution_count": 11,
   "id": "8a70b50d-2cba-4a8c-8c56-02785589ad25",
   "metadata": {},
   "outputs": [
    {
     "name": "stdout",
     "output_type": "stream",
     "text": [
      "5\n",
      "30\n",
      "30\n"
     ]
    }
   ],
   "source": [
    "# Pengambilan elemen List menggunakan indeks negatif dapat ditentukan dengan formula\n",
    "#List[-n] = list[len(list) - n]\n",
    "# contoh:\n",
    "list = [10, 20, 30, 40, 50]\n",
    "print(len(list)) # berfungsi untuk mengambil jumlah atau banyaknya elemen dalam List\n",
    "#jika n=-3\n",
    "list[-3]=list [len (list)-3] # = List[2]\n",
    "print(list[-3])\n",
    "print(list[2])\n",
    "# berarti List[-3] = List[2]"
   ]
  },
  {
   "cell_type": "code",
   "execution_count": 14,
   "id": "59f10f51-d9e5-4e38-b1f1-0b29f130754e",
   "metadata": {},
   "outputs": [
    {
     "name": "stdout",
     "output_type": "stream",
     "text": [
      "[1, 'Jeruk', 2, 'Rambutan', 3, 'Durian']\n",
      "1\n",
      "Jeruk\n",
      "2\n",
      "Rambutan\n",
      "3\n",
      "Durian\n"
     ]
    }
   ],
   "source": [
    "# Dalam Python, nilai elemen di dalam List bisa berasal dari tipe data yang berbeda\n",
    "# Contoh:\n",
    "list =[1, 'Jeruk', 2, 'Rambutan', 3, 'Durian']\n",
    "# menampilkan elemen dalam List\n",
    "print(list)\n",
    "#index elemen List\n",
    "print(list[0])\n",
    "print(list[1])\n",
    "print(list[2])\n",
    "print(list[3])\n",
    "print(list[4])\n",
    "print(list[5])"
   ]
  },
  {
   "cell_type": "code",
   "execution_count": 15,
   "id": "89083a6b-0f4f-4b0d-9ca9-be2dc4b06d13",
   "metadata": {},
   "outputs": [
    {
     "name": "stdout",
     "output_type": "stream",
     "text": [
      "Jl. Raya Kodam\n",
      "Cikarang Selatan\n",
      "17530\n"
     ]
    }
   ],
   "source": [
    "#Nilai elemen dalam list juga dapat berupa list lain\n",
    "# Konsep sama dengan array multidimensional\n",
    "# Contoh:\n",
    "list =[1, 'Takumi', ['Jl. Raya Kodam', 'Cikarang Selatan', 17530], '08111374497']\n",
    "print(list[2][0])\n",
    "print(list[2][1])\n",
    "print(list[2][2])"
   ]
  },
  {
   "cell_type": "code",
   "execution_count": 25,
   "id": "021e9fca-839b-4959-b957-cc6b238a5362",
   "metadata": {},
   "outputs": [
    {
     "name": "stdout",
     "output_type": "stream",
     "text": [
      "Matriks 3x3\n",
      "[[1, 2, 3], [4, 5, 6], [7, 8, 9]]\n",
      "Mengambil baris ke-2:\n",
      "[4, 5, 6]\n",
      "Mengambil baris ke-2, lalu dapatkan item ke-3 di dalam baris\n",
      "6\n",
      "2\n",
      "4\n",
      "8\n",
      "[2, 4, 8]\n"
     ]
    }
   ],
   "source": [
    "#Contoh array multidimensional (Nesting) dalam bentuk matriks\n",
    "M = [[1, 2, 3],\n",
    "    [4, 5, 6],\n",
    "    [7, 8, 9]]\n",
    "\n",
    "print('Matriks 3x3')\n",
    "print(M) # menampilkan matiks 3x3\n",
    "\n",
    "print('Mengambil baris ke-2:')\n",
    "print(M[1]) # menampilkan baris kedua\n",
    "\n",
    "print('Mengambil baris ke-2, lalu dapatkan item ke-3 di dalam baris')\n",
    "print(M[1][2])\n",
    "print(M[0][1])\n",
    "print(M[1][0])\n",
    "print(M[2][1])\n",
    "Matrix = [(M[0][1]), (M[1][0]), (M[2][1])]\n",
    "print(Matrix)"
   ]
  },
  {
   "cell_type": "code",
   "execution_count": null,
   "id": "7a94439f-01ea-4942-89af-a37da72bb199",
   "metadata": {},
   "outputs": [],
   "source": []
  }
 ],
 "metadata": {
  "kernelspec": {
   "display_name": "Python 3 (ipykernel)",
   "language": "python",
   "name": "python3"
  },
  "language_info": {
   "codemirror_mode": {
    "name": "ipython",
    "version": 3
   },
   "file_extension": ".py",
   "mimetype": "text/x-python",
   "name": "python",
   "nbconvert_exporter": "python",
   "pygments_lexer": "ipython3",
   "version": "3.13.5"
  }
 },
 "nbformat": 4,
 "nbformat_minor": 5
}
