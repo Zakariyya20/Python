{
 "cells": [
  {
   "cell_type": "code",
   "execution_count": 3,
   "id": "2e017fd9-f8dc-4c25-9098-593343781aa1",
   "metadata": {},
   "outputs": [
    {
     "name": "stdout",
     "output_type": "stream",
     "text": [
      "dic('Dosen']: Eko\n",
      "dic['Prodi']: Mekatronika\n",
      "dic['Kuliah']: Python\n"
     ]
    }
   ],
   "source": [
    "#Datom Python, Dictionary disebut juga \"mapping\". Identik dan array asostatif\n",
    "#Indeks type string\n",
    "#Type dato: 1) key; 2) value\n",
    "#Bentub umum: variabel (keyl values, bey2:value2)\n",
    "#contoh\n",
    "dic ={'Dosen': 'Eko', 'Prodi': 'Mekatronika', 'Kuliah': 'Python'} \n",
    "#buat variabel menampilkan dictionary:\n",
    "print(\"dic('Dosen']:\", dic['Dosen'])\n",
    "print(\"dic['Prodi']:\", dic['Prodi'])\n",
    "print(\"dic['Kuliah']:\", dic['Kuliah'])\n"
   ]
  },
  {
   "cell_type": "code",
   "execution_count": 7,
   "id": "2cfb38c5-e71b-4154-9dac-3768e8fe7521",
   "metadata": {},
   "outputs": [
    {
     "name": "stdout",
     "output_type": "stream",
     "text": [
      "Dosen: Eko\n",
      "Prodi Mekatronika\n",
      "Kuliah: Python\n"
     ]
    }
   ],
   "source": [
    "dic ={'Dosen': 'Eko', 'Prodi': 'Mekatronika', 'Kuliah': 'Python'} \n",
    "#buat variabel menampilkan dictionary:\n",
    "print(\"Dosen:\", dic['Dosen'])\n",
    "print(\"Prodi\", dic['Prodi'])\n",
    "print(\"Kuliah:\", dic['Kuliah'])"
   ]
  },
  {
   "cell_type": "code",
   "execution_count": 8,
   "id": "3897c255-88c8-4f45-930d-2e14cff3e19a",
   "metadata": {},
   "outputs": [
    {
     "name": "stdout",
     "output_type": "stream",
     "text": [
      "satu; 5\n",
      "dua; 10\n"
     ]
    }
   ],
   "source": [
    "#Variabel dictionary\n",
    "dic={'satu' :5, 'dua' :10}\n",
    "#Variabel dictionary\n",
    "print (\"satu;\" , dic['satu'])\n",
    "print (\"dua;\" , dic['dua'])"
   ]
  },
  {
   "cell_type": "code",
   "execution_count": 10,
   "id": "93bafe0e-564e-4a18-a18a-39ccf9d25b97",
   "metadata": {},
   "outputs": [
    {
     "name": "stdout",
     "output_type": "stream",
     "text": [
      "dic['satu'] * dic['dua']: 50\n"
     ]
    }
   ],
   "source": [
    "#variabel dictionary\n",
    "dic ={'satu': 5, 'dua': 10}\n",
    "print(\"dic['satu'] * dic['dua']:\", (dic['satu'] * dic['dua']))"
   ]
  },
  {
   "cell_type": "code",
   "execution_count": 12,
   "id": "4493d30f-e7e9-47a7-97ab-f81d06c40017",
   "metadata": {},
   "outputs": [
    {
     "name": "stdout",
     "output_type": "stream",
     "text": [
      "satu: 5\n",
      "dua: 10\n",
      "satu dua: 50\n",
      "satu + dua: dua: 15\n",
      "dua / satu: 2.0\n"
     ]
    }
   ],
   "source": [
    "#variabel dictionary\n",
    "dic ={'satu': 5, 'dua':10}\n",
    "#operasi matematis dictionary\n",
    "print(\"satu:\", dic['satu'])\n",
    "print(\"dua:\", dic['dua'])\n",
    "print(\"satu dua:\", (dic['satu']* dic['dua']))\n",
    "print(\"satu + dua: dua:\", (dic['satu'] + dic['dua']))\n",
    "print(\"dua / satu:\", (dic['dua'] / dic['satu']))"
   ]
  },
  {
   "cell_type": "code",
   "execution_count": 13,
   "id": "ad5c93b7-042b-4f62-8c1a-5e62b8d0fa38",
   "metadata": {},
   "outputs": [
    {
     "data": {
      "text/plain": [
       "{'satu': 5, 'dua': 10, 'tiga': 15}"
      ]
     },
     "execution_count": 13,
     "metadata": {},
     "output_type": "execute_result"
    }
   ],
   "source": [
    "#Menambah Elemen ke dalam Dictionary\n",
    "dic ={'satu': 5, 'dua': 10} #sebelum ditambah\n",
    "dic['tiga'] = 15 #menambah elemen key 'tiga' dan value '15' print(dic) #menampilkan hasil penambahan elemen\n",
    "{'satu': 5, 'dua': 10, 'tiga': 15}"
   ]
  },
  {
   "cell_type": "code",
   "execution_count": 14,
   "id": "1666556a-df67-4533-a733-ec18865b1453",
   "metadata": {},
   "outputs": [
    {
     "name": "stdout",
     "output_type": "stream",
     "text": [
      "{'satu': 5, 'dua': 10, 'tiga': 15}\n"
     ]
    }
   ],
   "source": [
    "#Mengubah Elemen dalam Dictionary\n",
    "dic = {'satu': 5, 'dua': 10, 'tiga': 15} #sebelum diubah dic['dua']=20 #mengubah value '10' menjadi '20'\n",
    "print(dic)"
   ]
  },
  {
   "cell_type": "code",
   "execution_count": 15,
   "id": "6232b362-dd8c-46f7-8820-1d5c2dbe42ae",
   "metadata": {},
   "outputs": [
    {
     "name": "stdout",
     "output_type": "stream",
     "text": [
      "{'satu': 5, 'dua': 10, 'tiga': 15}\n"
     ]
    }
   ],
   "source": [
    "#Menghapus Elemen dari Dictionary\n",
    "dic = {'satu': 5, 'dua': 10, 'tiga': 15} #sebelum dihap del dic['dua']\n",
    "print(dic)"
   ]
  },
  {
   "cell_type": "code",
   "execution_count": 17,
   "id": "c2a649be-ddf0-481d-a09b-1cef079b6871",
   "metadata": {},
   "outputs": [
    {
     "name": "stdout",
     "output_type": "stream",
     "text": [
      "{'a': 1, 'b': 2, 'c': 3}\n",
      "['a', 'b', 'c']\n",
      "['a', 'b', 'c']\n",
      "a = 1\n",
      "b = 2\n",
      "c = 3\n"
     ]
    }
   ],
   "source": [
    "#Sorting Dictionary\n",
    "D= {'a':1, 'b': 2, 'c':3}\n",
    "print(D)\n",
    "Ks = list(D.keys())\n",
    "print(Ks)\n",
    "Ks.sort()\n",
    "print(Ks)\n",
    "for key in Ks:\n",
    "    print(key, '=', D[key])"
   ]
  },
  {
   "cell_type": "code",
   "execution_count": null,
   "id": "f5e9196d-b453-48c1-8fa1-90422681be45",
   "metadata": {},
   "outputs": [],
   "source": []
  }
 ],
 "metadata": {
  "kernelspec": {
   "display_name": "Python 3 (ipykernel)",
   "language": "python",
   "name": "python3"
  },
  "language_info": {
   "codemirror_mode": {
    "name": "ipython",
    "version": 3
   },
   "file_extension": ".py",
   "mimetype": "text/x-python",
   "name": "python",
   "nbconvert_exporter": "python",
   "pygments_lexer": "ipython3",
   "version": "3.13.5"
  }
 },
 "nbformat": 4,
 "nbformat_minor": 5
}
